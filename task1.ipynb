{
  "nbformat": 4,
  "nbformat_minor": 0,
  "metadata": {
    "colab": {
      "provenance": [],
      "authorship_tag": "ABX9TyMVlA3lfu7yC8TRO1MiofmS",
      "include_colab_link": true
    },
    "kernelspec": {
      "name": "python3",
      "display_name": "Python 3"
    },
    "language_info": {
      "name": "python"
    }
  },
  "cells": [
    {
      "cell_type": "markdown",
      "metadata": {
        "id": "view-in-github",
        "colab_type": "text"
      },
      "source": [
        "<a href=\"https://colab.research.google.com/github/Bargavasai2546/python/blob/main/task1.ipynb\" target=\"_parent\"><img src=\"https://colab.research.google.com/assets/colab-badge.svg\" alt=\"Open In Colab\"/></a>"
      ]
    },
    {
      "cell_type": "code",
      "execution_count": null,
      "metadata": {
        "id": "sXnD9xbtdLUY"
      },
      "outputs": [],
      "source": [
        "principal = float(input(\"Enter the principal amount: \"))\n",
        "rate = float(input(\"Enter the rate of interest: \"))\n",
        "time = float(input(\"Enter the time in years: \"))\n",
        "compound_interest = principal * ((1 + rate/100) ** time) - principal\n",
        "print(\"The compound interest is:\", compound interest)"
      ]
    },
    {
      "cell_type": "code",
      "source": [
        "def calculate_total_cost(x, y):\n",
        "return x*y\n",
        "t = int(input(\"Enter the number of test cases: \"))\n",
        "for_in range(t):\n",
        "x, y = map(int, input().split())\n",
        "total_amount = calculate_total_cost(x, y)\n",
        "print(total_amount)"
      ],
      "metadata": {
        "id": "zrLgA4e4d45G"
      },
      "execution_count": null,
      "outputs": []
    },
    {
      "cell_type": "code",
      "source": [
        "SQFT_PER_ACRE = 43560\n",
        "length = float (input (\"Enter the length of the field in feet: \"))\n",
        "width = float (input (\"Enter the width of the field in feet: \"))\n",
        "acres = length * width / SQFT_PER_ACRE\n",
        "print (\"The area of the field is\", acres, \"acres\")"
      ],
      "metadata": {
        "id": "WwotyASpd6Zd"
      },
      "execution_count": null,
      "outputs": []
    },
    {
      "cell_type": "code",
      "source": [
        "import math\n",
        "\n",
        "def calculate_distance(x1, y1, x2, y2):\n",
        "distance = math.sqrt((x2 -x1)*2+ (y2 - y1)*2)\n",
        "return distance\n",
        "x_ram = float(input(\"Enter the X-coordinate of Ram: \"))\n",
        "y_ram = float(input(\"Enter the Y-coordinate of Ram: \"))\n",
        "x_sita = float(input(\"Enter the X-coordinate of Sita: \"))\n",
        "y_sita = float(input(\"Enter the Y-coordinate of Sita: \"))\n",
        "distance_between_them = calculate_distance(x_ram, y_ram, x_sita, y_sita)\n",
        "print(f\"The distance between Ram and Sita is: {distance between them:.2f}\")"
      ],
      "metadata": {
        "id": "QWzIdH0nd7x1"
      },
      "execution_count": null,
      "outputs": []
    }
  ]
}