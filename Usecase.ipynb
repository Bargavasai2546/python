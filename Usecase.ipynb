{
  "nbformat": 4,
  "nbformat_minor": 0,
  "metadata": {
    "colab": {
      "provenance": [],
      "authorship_tag": "ABX9TyMB3dHYjsQUsUsmmx+BjDO6",
      "include_colab_link": true
    },
    "kernelspec": {
      "name": "python3",
      "display_name": "Python 3"
    },
    "language_info": {
      "name": "python"
    }
  },
  "cells": [
    {
      "cell_type": "markdown",
      "metadata": {
        "id": "view-in-github",
        "colab_type": "text"
      },
      "source": [
        "<a href=\"https://colab.research.google.com/github/Bargavasai2546/python/blob/main/Usecase.ipynb\" target=\"_parent\"><img src=\"https://colab.research.google.com/assets/colab-badge.svg\" alt=\"Open In Colab\"/></a>"
      ]
    },
    {
      "cell_type": "code",
      "execution_count": null,
      "metadata": {
        "id": "VLnVxyU5nEqA"
      },
      "outputs": [],
      "source": [
        "import random\n",
        "\n",
        "class Card:\n",
        "    suits = [\"Spades\", \"Hearts\", \"Diamonds\", \"Clubs\"]\n",
        "    values = [None, None, \"2\", \"3\", \"4\", \"5\", \"6\", \"7\", \"8\", \"9\", \"10\", \"Jack\", \"Queen\", \"King\", \"Ace\"]\n",
        "\n",
        "    def __init__(self, v, s):\n",
        "        self.value = v\n",
        "        self.suit = s\n",
        "\n",
        "    def __lt__(self, other):\n",
        "        return self.value < other.value\n",
        "\n",
        "    def __gt__(self, other):\n",
        "        return self.value > other.value\n",
        "\n",
        "    def __repr__(self):\n",
        "        return f\"{self.values[self.value]} of {self.suits[self.suit]}\"\n",
        "\n",
        "class Deck:\n",
        "    def __init__(self):\n",
        "        self.cards = [Card(value, suit) for value in range(2, 15) for suit in range(4)]\n",
        "        random.shuffle(self.cards)\n",
        "\n",
        "    def deal(self):\n",
        "        return self.cards.pop() if self.cards else None\n",
        "\n",
        "class Player:\n",
        "    def __init__(self, name):\n",
        "        self.name = name\n",
        "        self.wins = 0\n",
        "\n",
        "def play_war_game():\n",
        "    deck = Deck()\n",
        "    player1 = Player(\"Player 1\")\n",
        "    player2 = Player(\"Player 2\")\n",
        "\n",
        "    while len(deck.cards) >= 2:\n",
        "        card1 = deck.deal()\n",
        "        card2 = deck.deal()\n",
        "        if card1 > card2:\n",
        "            player1.wins += 1\n",
        "        else:\n",
        "            player2.wins += 1\n",
        "\n",
        "    return player1.wins, player2.wins\n",
        "\n",
        "def simulate_games(n_games=1000):\n",
        "    p1_wins, p2_wins, ties = 0, 0, 0\n",
        "    for _ in range(n_games):\n",
        "        score1, score2 = play_war_game()\n",
        "        if score1 > score2:\n",
        "            p1_wins += 1\n",
        "        elif score2 > score1:\n",
        "            p2_wins += 1\n",
        "        else:\n",
        "            ties += 1\n",
        "    print(f\"Player 1 wins: {p1_wins}\")\n",
        "    print(f\"Player 2 wins: {p2_wins}\")\n",
        "    print(f\"Ties: {ties}\")\n",
        "\n",
        "simulate_games(100)\n"
      ]
    }
  ]
}